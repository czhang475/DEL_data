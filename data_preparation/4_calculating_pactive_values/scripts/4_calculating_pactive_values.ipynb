{
 "cells": [
  {
   "cell_type": "markdown",
   "metadata": {},
   "source": [
    "## Purpose of this notebook\n",
    "\n",
    "Once we have completed conformer generation, we wish to analyze the activity of the building blocks in each position. The activity of each building block is defined by a \"P(active)\" value, which is just a ratio of the number of times a building block occurs in active compounds compared to all compounds. \n",
    "\n",
    "$$ P(active) = \\frac{n_{active}}{n_{active} + n_{inactive}} $$\n",
    "\n",
    "With sufficient number of observations, this metric should be quite robust. The analysis notebooks provide more intuition for the metric and demonstrate its value.\n",
    "\n",
    "Input:\n",
    "- `total_compounds.csv`: list of all compounds that made it through the data cleaning procedure\n",
    "- `bb1_info_row.csv`: SMILES of building blocks in position 1 that made it through conformer generation\n",
    "- `bb2_info_row.csv`: SMILES of building blocks in position 2 that made it through conformer generation\n",
    "- `bb3_info_row.csv`: SMILES of building blocks in position 3 that made it through conformer generation\n",
    "\n",
    "(if matrix is not symmetric, will also need to load in `*info_col.csv` files too)\n",
    "\n",
    "Output:\n",
    "- `bb1_info.csv`: adds the P(active) values for each compound to `bb1_info_row.csv` \n",
    "- `bb2_info.csv`: adds the P(active) values for each compound to `bb2_info_row.csv` \n",
    "- `bb3_info.csv`: adds the P(active) values for each compound to `bb3_info_row.csv`"
   ]
  },
  {
   "cell_type": "code",
   "execution_count": 2,
   "metadata": {},
   "outputs": [],
   "source": [
    "import pandas as pd\n",
    "import numpy as np"
   ]
  },
  {
   "cell_type": "code",
   "execution_count": 3,
   "metadata": {},
   "outputs": [
    {
     "name": "stdout",
     "output_type": "stream",
     "text": [
      "105543\n",
      "4745191\n"
     ]
    }
   ],
   "source": [
    "# Split total compounds into two separate dataframes, active and inactive compounds\n",
    "total_compounds = pd.read_csv('../../output/total_compounds.csv')\n",
    "actives = total_compounds.loc[total_compounds['read_count'] > 0]\n",
    "inactives = total_compounds.loc[total_compounds['read_count'] == 0]\n",
    "print(len(actives))\n",
    "print(len(inactives))"
   ]
  },
  {
   "cell_type": "markdown",
   "metadata": {},
   "source": [
    "#### Calculating P(active) value for each building block at each position\n",
    "\n",
    "Code source: `notebooks/04_04_22_laplaces_rule_of_succession`\n",
    "\n",
    "Calculating all the different P(active) values takes a little bit of time to complete."
   ]
  },
  {
   "cell_type": "code",
   "execution_count": 9,
   "metadata": {},
   "outputs": [
    {
     "name": "stdout",
     "output_type": "stream",
     "text": [
      "645\n",
      "0\n",
      "100\n",
      "200\n",
      "300\n",
      "400\n",
      "500\n",
      "600\n"
     ]
    }
   ],
   "source": [
    "# Calculate the P(active) value of each building block by \n",
    "bb1 = pd.read_csv('../files/bb1_info_row.csv')\n",
    "bb1_pactive = {}\n",
    "print(len(bb1))\n",
    "for index, bb in enumerate(bb1['SMILES']):\n",
    "    if index % 100 == 0:\n",
    "        print(index)\n",
    "    n_actives = len(actives.loc[actives['bb1'] == bb])\n",
    "    n_inactives = len(inactives.loc[inactives['bb1'] == bb])\n",
    "    bb1_pactive[bb] = n_actives/(n_actives + n_inactives)"
   ]
  },
  {
   "cell_type": "code",
   "execution_count": 10,
   "metadata": {
    "scrolled": false
   },
   "outputs": [
    {
     "name": "stdout",
     "output_type": "stream",
     "text": [
      "349\n",
      "0\n",
      "100\n",
      "200\n",
      "300\n"
     ]
    }
   ],
   "source": [
    "bb2 = pd.read_csv('../files/bb2_info_row.csv')\n",
    "bb2_pactive = {}\n",
    "print(len(bb2))\n",
    "for index, bb in enumerate(bb2['SMILES']):\n",
    "    if index % 100 == 0:\n",
    "        print(index)\n",
    "    n_actives = len(actives.loc[actives['bb2'] == bb])\n",
    "    n_inactives = len(inactives.loc[inactives['bb2'] == bb])\n",
    "    bb2_pactive[bb] = n_actives/(n_actives + n_inactives)"
   ]
  },
  {
   "cell_type": "code",
   "execution_count": 11,
   "metadata": {},
   "outputs": [
    {
     "name": "stdout",
     "output_type": "stream",
     "text": [
      "4572\n",
      "0\n",
      "100\n",
      "200\n",
      "300\n",
      "400\n",
      "500\n",
      "600\n",
      "700\n",
      "800\n",
      "900\n",
      "1000\n",
      "1100\n",
      "1200\n",
      "1300\n",
      "1400\n",
      "1500\n",
      "1600\n",
      "1700\n",
      "1800\n",
      "1900\n",
      "2000\n",
      "2100\n",
      "2200\n",
      "2300\n",
      "2400\n",
      "2500\n",
      "2600\n",
      "2700\n",
      "2800\n",
      "2900\n",
      "3000\n",
      "3100\n",
      "3200\n",
      "3300\n",
      "3400\n",
      "3500\n",
      "3600\n",
      "3700\n",
      "3800\n",
      "3900\n",
      "4000\n",
      "4100\n",
      "4200\n",
      "4300\n",
      "4400\n",
      "4500\n"
     ]
    }
   ],
   "source": [
    "bb3 = pd.read_csv('../files/bb3_info_row.csv')\n",
    "# this is a building block that keeps giving issues, so we remove it\n",
    "#np.argwhere(bb3 == 'NC1[C@H]2CC3C[C@H]1CC(O)(C3)C2')\n",
    "#bb3 = bb3.delete()\n",
    "bb3_pactive = {}\n",
    "print(len(bb3))\n",
    "for index, bb in enumerate(bb3['SMILES']):\n",
    "    if index % 100 == 0:\n",
    "        print(index)\n",
    "    n_actives = len(actives.loc[actives['bb3'] == bb])\n",
    "    n_inactives = len(inactives.loc[inactives['bb3'] == bb])\n",
    "    bb3_pactive[bb] = n_actives/(n_actives + n_inactives)"
   ]
  },
  {
   "cell_type": "code",
   "execution_count": 12,
   "metadata": {},
   "outputs": [],
   "source": [
    "# Save the compound SMILES and the SMILES of the best stereoisomer (if applicable) along with the P(active) value\n",
    "bb1_info = pd.DataFrame(list(bb1_pactive.items()), columns=['SMILES', 'P(active)'])\n",
    "bb1_info['stereo_SMILES'] = bb1['enumerated_SMILES']\n",
    "\n",
    "bb2_info = pd.DataFrame(list(bb2_pactive.items()), columns=['SMILES', 'P(active)'])\n",
    "bb2_info['stereo_SMILES'] = bb2['enumerated_SMILES']\n",
    "\n",
    "bb3_info = pd.DataFrame(list(bb3_pactive.items()), columns=['SMILES', 'P(active)'])\n",
    "bb3_info['stereo_SMILES'] = bb3['enumerated_SMILES']"
   ]
  },
  {
   "cell_type": "code",
   "execution_count": 13,
   "metadata": {},
   "outputs": [],
   "source": [
    "bb1_info.to_csv('../../output/bb1_pactive.csv', index=False)\n",
    "bb2_info.to_csv('../../output/bb2_pactive.csv', index=False)\n",
    "bb3_info.to_csv('../../output/bb3_pactive.csv', index=False)"
   ]
  }
 ],
 "metadata": {
  "kernelspec": {
   "display_name": "rdkit_env",
   "language": "python",
   "name": "rdkit_env"
  },
  "language_info": {
   "codemirror_mode": {
    "name": "ipython",
    "version": 3
   },
   "file_extension": ".py",
   "mimetype": "text/x-python",
   "name": "python",
   "nbconvert_exporter": "python",
   "pygments_lexer": "ipython3",
   "version": "3.7.9"
  }
 },
 "nbformat": 4,
 "nbformat_minor": 5
}
