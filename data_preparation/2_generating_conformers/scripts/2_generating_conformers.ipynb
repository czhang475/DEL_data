{
 "cells": [
  {
   "cell_type": "markdown",
   "metadata": {},
   "source": [
    "## Purpose of this notebook\n",
    "\n",
    "In our typical workflow, we move over to a computing cluster to generate conformers for all compounds. We will need 3D conformers for each compound in order to obtain 3D shape + color Tanimoto combo scores.\n",
    "\n",
    "The following notebook provides a small-scale example of what we do in the conformer generation process, and provides a simple demonstration of our underlying workflow. We also provide the code necessary to run the conformer generation process on a computing cluster.\n",
    "\n",
    "Input:\n",
    "- `sample_compounds.csv`: list of SMILES for the compounds to generate conformers for \n",
    "\n",
    "Output:\n",
    "- `sample_compounds.oeb`: OpenEye binary file with coordinates of generated conformers for each compound\n",
    "- `sample_compounds.log`: file of warning messages later used to parse compounds with unspecified stereochemistry\n",
    "- `sample_compounds.pkl`: dictionary containing the indices of compounds and their specified enumerated stereoisomers"
   ]
  },
  {
   "cell_type": "code",
   "execution_count": 1,
   "metadata": {},
   "outputs": [],
   "source": [
    "from openeye import oechem, oeomega\n",
    "import numpy as np\n",
    "import pandas as pd\n",
    "import pickle\n",
    "from IPython.display import display\n",
    "\n",
    "# Load in file containing helpful pre-made functions\n",
    "import tools"
   ]
  },
  {
   "cell_type": "markdown",
   "metadata": {},
   "source": [
    "### Import data"
   ]
  },
  {
   "cell_type": "code",
   "execution_count": 3,
   "metadata": {},
   "outputs": [
    {
     "data": {
      "text/html": [
       "<div>\n",
       "<style scoped>\n",
       "    .dataframe tbody tr th:only-of-type {\n",
       "        vertical-align: middle;\n",
       "    }\n",
       "\n",
       "    .dataframe tbody tr th {\n",
       "        vertical-align: top;\n",
       "    }\n",
       "\n",
       "    .dataframe thead th {\n",
       "        text-align: right;\n",
       "    }\n",
       "</style>\n",
       "<table border=\"1\" class=\"dataframe\">\n",
       "  <thead>\n",
       "    <tr style=\"text-align: right;\">\n",
       "      <th></th>\n",
       "      <th>SMILES</th>\n",
       "    </tr>\n",
       "  </thead>\n",
       "  <tbody>\n",
       "    <tr>\n",
       "      <th>0</th>\n",
       "      <td>C(C#N)[C@H](C(=O)O)N</td>\n",
       "    </tr>\n",
       "    <tr>\n",
       "      <th>1</th>\n",
       "      <td>C(C(=O)O)N</td>\n",
       "    </tr>\n",
       "    <tr>\n",
       "      <th>2</th>\n",
       "      <td>C(C(C(=O)O)N)C(=O)N</td>\n",
       "    </tr>\n",
       "    <tr>\n",
       "      <th>3</th>\n",
       "      <td>C(CC(=O)N)[C@@H](C(=O)O)N</td>\n",
       "    </tr>\n",
       "    <tr>\n",
       "      <th>4</th>\n",
       "      <td>C(CC(=O)O)CN</td>\n",
       "    </tr>\n",
       "  </tbody>\n",
       "</table>\n",
       "</div>"
      ],
      "text/plain": [
       "                      SMILES\n",
       "0       C(C#N)[C@H](C(=O)O)N\n",
       "1                 C(C(=O)O)N\n",
       "2        C(C(C(=O)O)N)C(=O)N\n",
       "3  C(CC(=O)N)[C@@H](C(=O)O)N\n",
       "4               C(CC(=O)O)CN"
      ]
     },
     "metadata": {},
     "output_type": "display_data"
    }
   ],
   "source": [
    "data = pd.read_csv('../files/sample_compounds.csv')\n",
    "display(data)\n",
    "## Set up error catching\n",
    "## This file will save the error message returned for all compound that do not have specified stereochemistry\n",
    "filename = '../files/sample_compounds'\n",
    "logfile = filename + '.log'\n",
    "errfs = oechem.oeofstream(logfile)\n",
    "oechem.OEThrow.SetOutputStream(errfs)"
   ]
  },
  {
   "cell_type": "markdown",
   "metadata": {},
   "source": [
    "### Generate conformers\n",
    "\n",
    "We start with 5 compounds and end with 6. The reason for this is because compound 2 has unspecified stereochemistry and is split into two potential stereoisomers. We can visualize this below."
   ]
  },
  {
   "cell_type": "code",
   "execution_count": 4,
   "metadata": {},
   "outputs": [
    {
     "data": {
      "text/html": [
       "<div>\n",
       "<style scoped>\n",
       "    .dataframe tbody tr th:only-of-type {\n",
       "        vertical-align: middle;\n",
       "    }\n",
       "\n",
       "    .dataframe tbody tr th {\n",
       "        vertical-align: top;\n",
       "    }\n",
       "\n",
       "    .dataframe thead th {\n",
       "        text-align: right;\n",
       "    }\n",
       "</style>\n",
       "<table border=\"1\" class=\"dataframe\">\n",
       "  <thead>\n",
       "    <tr style=\"text-align: right;\">\n",
       "      <th></th>\n",
       "      <th>index</th>\n",
       "      <th>Molecule</th>\n",
       "      <th>num_confs</th>\n",
       "      <th>SMILES</th>\n",
       "      <th>enumerated_SMILES</th>\n",
       "    </tr>\n",
       "  </thead>\n",
       "  <tbody>\n",
       "    <tr>\n",
       "      <th>0</th>\n",
       "      <td>0</td>\n",
       "      <td>&lt;oechem.OEMol; proxy of &lt;Swig Object of type '...</td>\n",
       "      <td>8</td>\n",
       "      <td>C(C#N)[C@H](C(=O)O)N</td>\n",
       "      <td>C(C#N)[C@H](C(=O)O)N</td>\n",
       "    </tr>\n",
       "    <tr>\n",
       "      <th>1</th>\n",
       "      <td>1</td>\n",
       "      <td>&lt;oechem.OEMol; proxy of &lt;Swig Object of type '...</td>\n",
       "      <td>2</td>\n",
       "      <td>C(C(=O)O)N</td>\n",
       "      <td>C(C(=O)O)N</td>\n",
       "    </tr>\n",
       "    <tr>\n",
       "      <th>2</th>\n",
       "      <td>2</td>\n",
       "      <td>&lt;oechem.OEMol; proxy of &lt;Swig Object of type '...</td>\n",
       "      <td>26</td>\n",
       "      <td>C(C(C(=O)O)N)C(=O)N</td>\n",
       "      <td>C([C@@H](C(=O)O)N)C(=O)N</td>\n",
       "    </tr>\n",
       "    <tr>\n",
       "      <th>3</th>\n",
       "      <td>2</td>\n",
       "      <td>&lt;oechem.OEMol; proxy of &lt;Swig Object of type '...</td>\n",
       "      <td>27</td>\n",
       "      <td>C(C(C(=O)O)N)C(=O)N</td>\n",
       "      <td>C([C@H](C(=O)O)N)C(=O)N</td>\n",
       "    </tr>\n",
       "    <tr>\n",
       "      <th>4</th>\n",
       "      <td>3</td>\n",
       "      <td>&lt;oechem.OEMol; proxy of &lt;Swig Object of type '...</td>\n",
       "      <td>42</td>\n",
       "      <td>C(CC(=O)N)[C@@H](C(=O)O)N</td>\n",
       "      <td>C(CC(=O)N)[C@@H](C(=O)O)N</td>\n",
       "    </tr>\n",
       "    <tr>\n",
       "      <th>5</th>\n",
       "      <td>4</td>\n",
       "      <td>&lt;oechem.OEMol; proxy of &lt;Swig Object of type '...</td>\n",
       "      <td>14</td>\n",
       "      <td>C(CC(=O)O)CN</td>\n",
       "      <td>C(CC(=O)O)CN</td>\n",
       "    </tr>\n",
       "  </tbody>\n",
       "</table>\n",
       "</div>"
      ],
      "text/plain": [
       "   index                                           Molecule  num_confs  \\\n",
       "0      0  <oechem.OEMol; proxy of <Swig Object of type '...          8   \n",
       "1      1  <oechem.OEMol; proxy of <Swig Object of type '...          2   \n",
       "2      2  <oechem.OEMol; proxy of <Swig Object of type '...         26   \n",
       "3      2  <oechem.OEMol; proxy of <Swig Object of type '...         27   \n",
       "4      3  <oechem.OEMol; proxy of <Swig Object of type '...         42   \n",
       "5      4  <oechem.OEMol; proxy of <Swig Object of type '...         14   \n",
       "\n",
       "                      SMILES          enumerated_SMILES  \n",
       "0       C(C#N)[C@H](C(=O)O)N       C(C#N)[C@H](C(=O)O)N  \n",
       "1                 C(C(=O)O)N                 C(C(=O)O)N  \n",
       "2        C(C(C(=O)O)N)C(=O)N   C([C@@H](C(=O)O)N)C(=O)N  \n",
       "3        C(C(C(=O)O)N)C(=O)N    C([C@H](C(=O)O)N)C(=O)N  \n",
       "4  C(CC(=O)N)[C@@H](C(=O)O)N  C(CC(=O)N)[C@@H](C(=O)O)N  \n",
       "5               C(CC(=O)O)CN               C(CC(=O)O)CN  "
      ]
     },
     "metadata": {},
     "output_type": "display_data"
    }
   ],
   "source": [
    "# initialize structures to store information\n",
    "new_table = pd.DataFrame(columns=['index', 'Molecule'])\n",
    "indices = []\n",
    "molecules = []\n",
    "smiles = []\n",
    "smiles_2 = []\n",
    "\n",
    "# generate conformers for all SMILES strings\n",
    "for index, smi in enumerate(data['SMILES']):\n",
    "    mol = tools.smiles_to_oemol(smi)\n",
    "    oechem.OETriposAtomNames(mol)\n",
    "    mol = tools.normalize_molecule(mol)\n",
    "    cmol = None\n",
    "    # try to generate conformers for the given molecule\n",
    "    try:\n",
    "        cmol = tools.generate_conformers(mol, max_confs=200)\n",
    "        smiles.append(smi)\n",
    "        smiles_2.append(smi)\n",
    "        indices.append(index)\n",
    "        molecules.append(cmol)\n",
    "\n",
    "    # will fail if molecule does not have specified stereochemistry\n",
    "    except Exception as e:\n",
    "        # write warning message into `warnfile`, which is later parsed to extract molecule indices\n",
    "        oechem.OEThrow.Warning('Molecule {} returned an error\\n{}'.format(index, str(e)))\n",
    "\n",
    "    # enumerates all possible stereoisomers for a compound with unspecified stereochemistry\n",
    "    if cmol is None:\n",
    "        for nmol in oeomega.OEFlipper(mol):\n",
    "            oechem.OETriposAtomNames(nmol)\n",
    "            # generate conformers for all valid stereoisomers\n",
    "            try:\n",
    "                nmol = tools.generate_conformers(nmol, max_confs=200)\n",
    "                smiles.append(smi)\n",
    "                smiles_2.append(oechem.OECreateIsoSmiString(nmol))\n",
    "                #nmol.SetTitle(oechem.OECreateIsoSmiString(nmol))\n",
    "                indices.append(index)\n",
    "                molecules.append(nmol)\n",
    "            except Exception:\n",
    "                pass\n",
    "\n",
    "new_table['index'] = indices\n",
    "new_table['Molecule'] = molecules\n",
    "new_table['num_confs'] = new_table['Molecule'].apply(lambda x: x.NumConfs())\n",
    "new_table['SMILES'] = smiles\n",
    "new_table['enumerated_SMILES'] = smiles_2\n",
    "# view the number of conformers generated for each compound \n",
    "# and compare original SMILES to SMILES of enumerated stereoisomers\n",
    "# new_table['num_confs'] = new_table['Molecule'].apply(lambda x: x.NumConfs())\n",
    "# new_table['enumerated_SMILES'] = new_table['Molecule'].apply(lambda x: x.GetTitle())\n",
    "# new_table = pd.merge(new_table, data, how='right', left_on='index', right_index=True)\n",
    "display(new_table)"
   ]
  },
  {
   "cell_type": "code",
   "execution_count": 5,
   "metadata": {},
   "outputs": [
    {
     "data": {
      "image/png": "[encoded data removed]",
      "text/plain": [
       "<PIL.PngImagePlugin.PngImageFile image mode=RGB size=300x300 at 0x7F868A9AE4D0>"
      ]
     },
     "metadata": {},
     "output_type": "display_data"
    },
    {
     "data": {
      "image/png": "[encoded data removed]",
      "text/plain": [
       "<IPython.core.display.Image object>"
      ]
     },
     "metadata": {},
     "output_type": "display_data"
    }
   ],
   "source": [
    "import rdkit \n",
    "from rdkit import Chem\n",
    "from rdkit.Chem import Draw\n",
    "\n",
    "# visualize original compound and its stereoisomers\n",
    "original_mol = Chem.MolFromSmiles(new_table['SMILES'][2])\n",
    "split_mols = [Chem.MolFromSmiles(smi) for smi in new_table['enumerated_SMILES'][2:4]]\n",
    "display(Draw.MolToImage(original_mol))\n",
    "display(Draw.MolsToGridImage(split_mols))"
   ]
  },
  {
   "cell_type": "markdown",
   "metadata": {},
   "source": [
    "### Read log file\n",
    "\n",
    "With our OMEGA settings, all compounds with unspecified stereochemistry are flagged. We store these error messages in a `.log` file, which we parse later to get the indices of all compounds with unspecified stereochemistry. "
   ]
  },
  {
   "cell_type": "code",
   "execution_count": 6,
   "metadata": {},
   "outputs": [
    {
     "name": "stdout",
     "output_type": "stream",
     "text": [
      "Warning: MOL: Failed due to unspecified stereochemistry\n",
      "\n",
      "Warning: Molecule 2 returned an error\n",
      "\n",
      "omega returned error code 0\n",
      "\n"
     ]
    }
   ],
   "source": [
    "# view the results of the warn file\n",
    "f = open(logfile, 'r')\n",
    "for line in f:\n",
    "    print(line)"
   ]
  },
  {
   "cell_type": "markdown",
   "metadata": {},
   "source": [
    "### Create index file\n",
    "\n",
    "We create a dictionary where the key is the id of the original compound and the value is a list of the ids for all its enumerated stereoisomers. Should there be multiple compounds with unspecified stereochemistry, there will be multiple key-value pairs stored in the dictionary."
   ]
  },
  {
   "cell_type": "code",
   "execution_count": 7,
   "metadata": {},
   "outputs": [
    {
     "name": "stdout",
     "output_type": "stream",
     "text": [
      "{2: [2, 3]}\n"
     ]
    }
   ],
   "source": [
    "## Record the compounds with enumerated stereoisomers and their indices for later analysis\n",
    "## Create a dictionary where the index of the original compound is the key\n",
    "## and the index of all valid stereoisomers are the values\n",
    "groupings = {}\n",
    "group = []\n",
    "for index, value in enumerate(indices[:-1], 1):\n",
    "    # start storing indices if the value of entry is same as the previous\n",
    "    if indices[index] == indices[index-1]:\n",
    "        group.append(index-1)\n",
    "        # edge case to close off group if it occurs at the very end of the list\n",
    "        if index == len(indices)-1:\n",
    "            group.append(index)\n",
    "            groupings[value] = group\n",
    "    # stop storing indices once value has changed, close off list, append it and make a new list\n",
    "    elif indices[index] != indices[index-1] and group:\n",
    "        group.append(index-1)\n",
    "        groupings[value] = group\n",
    "        group = []\n",
    "    else:\n",
    "        continue\n",
    "\n",
    "print(groupings)\n",
    "indfile = filename + '.pkl'\n",
    "pickle.dump(groupings, open(indfile, 'wb'))"
   ]
  },
  {
   "cell_type": "markdown",
   "metadata": {},
   "source": [
    "### Read error\n",
    "\n",
    "Quality assurance step: we need to confirm that we successfully generated conformers for all enumerated stereoisomers. This procedure is contained in the function `tools.read_error()` "
   ]
  },
  {
   "cell_type": "code",
   "execution_count": 8,
   "metadata": {},
   "outputs": [
    {
     "name": "stdout",
     "output_type": "stream",
     "text": [
      "{2}\n"
     ]
    }
   ],
   "source": [
    "# Extract the indices of compounds with unspecified stereochemistry\n",
    "problem_ind = []\n",
    "with open(logfile, 'r') as fp:\n",
    "    for line in fp:\n",
    "        if line.find('Molecule') != -1:\n",
    "            val = [int(s) for s in line.split() if s.isdigit()]\n",
    "            problem_ind.append(val[0])\n",
    "\n",
    "## Store molecule indices as a set for easier operations\n",
    "problem_ind = set([int(x) for x in problem_ind])\n",
    "print(problem_ind)"
   ]
  },
  {
   "cell_type": "code",
   "execution_count": 9,
   "metadata": {},
   "outputs": [
    {
     "name": "stdout",
     "output_type": "stream",
     "text": [
      "{2}\n"
     ]
    }
   ],
   "source": [
    "## Load in dictionary of {original_compound_id: [stereoisomer_compound_ids]}\n",
    "grouping = pickle.load(open(indfile, 'rb'))\n",
    "grouping_ind = set(grouping.keys())\n",
    "print(grouping_ind)"
   ]
  },
  {
   "cell_type": "code",
   "execution_count": 10,
   "metadata": {},
   "outputs": [
    {
     "name": "stdout",
     "output_type": "stream",
     "text": [
      "Stereochemistry enumerated for all compounds!\n"
     ]
    }
   ],
   "source": [
    "## Verify all compounds stored in the logfile now have enumerated stereoisomers\n",
    "if problem_ind == grouping_ind:\n",
    "    print('Stereochemistry enumerated for all compounds!')\n",
    "else:\n",
    "    print('Check molecules {}'.format(problem_ind ^ grouping_ind))"
   ]
  },
  {
   "cell_type": "markdown",
   "metadata": {},
   "source": [
    "### Save dataframe as OpenEye binary (.oeb) file\n",
    "If we find that stereochemistry has been successfully enumerated for all compounds, we save the dataframe as an OpenEye binary (.oeb) file, which we then feed into our 3D Tanimoto combo scoring script.\n"
   ]
  },
  {
   "cell_type": "code",
   "execution_count": 11,
   "metadata": {},
   "outputs": [],
   "source": [
    "tools.write_dataframe_to_file(new_table, '../files/sample_compounds.oeb')"
   ]
  }
 ],
 "metadata": {
  "kernelspec": {
   "display_name": "rdkit_env",
   "language": "python",
   "name": "rdkit_env"
  },
  "language_info": {
   "codemirror_mode": {
    "name": "ipython",
    "version": 3
   },
   "file_extension": ".py",
   "mimetype": "text/x-python",
   "name": "python",
   "nbconvert_exporter": "python",
   "pygments_lexer": "ipython3",
   "version": "3.7.9"
  }
 },
 "nbformat": 4,
 "nbformat_minor": 5
}
